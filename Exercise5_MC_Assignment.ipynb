{
 "cells": [
  {
   "cell_type": "markdown",
   "id": "0f6dd915-7cdb-44b7-b79d-94b863ddb282",
   "metadata": {},
   "source": [
    "# Exercise 5\n",
    "\n",
    "## MC Simulation"
   ]
  },
  {
   "cell_type": "code",
   "execution_count": 56,
   "id": "a0ec9f50-27e8-439a-8110-24bc94f5f909",
   "metadata": {},
   "outputs": [],
   "source": [
    "import numpy as np"
   ]
  },
  {
   "cell_type": "markdown",
   "id": "5754a6ee-9dda-4f1b-b1d9-910ebca02266",
   "metadata": {},
   "source": [
    "1. We want to determine the value of $\\pi$. We can do this by thinking of a circle inside a square, such that the side of the square is twice the radius of the circle. Think of how can you approximate $\\pi$ by throwing \"balls\" into the square and comparing the amount of balls falling inside and outside the circle."
   ]
  },
  {
   "cell_type": "code",
   "execution_count": null,
   "id": "908da99e-ac77-4576-9972-dc55c40e0598",
   "metadata": {},
   "outputs": [],
   "source": [
    "# WRITE CODE HERE\n"
   ]
  },
  {
   "cell_type": "markdown",
   "id": "dc50f449-dcd8-4a3a-adbb-f3bd6093d828",
   "metadata": {},
   "source": [
    "2a. Imagine the following game: player 1 and player 2 have each a die of $n_1$ and $n_2$ sides, respectively (i.e player 1 has a die with $n_1$ sides going from $1$ to $n_1$ and player 2 a die with $n_2$ sides going from $1$ to $n_2$). The game consists in each player rolling his die and comparing the results, the larger number wins. Compute the probability $p_1$ for player 1 to win, the probability $p_2$ for player 2 to win and the probability $p_0$ that there is no winner.\n",
    "\n",
    "**Bonus:** Find the analytical expressions for these probabilities."
   ]
  },
  {
   "cell_type": "code",
   "execution_count": 1,
   "id": "fc460d82-2e0f-4306-8a93-4087715fc06b",
   "metadata": {},
   "outputs": [],
   "source": [
    "# WRITE CODE HERE\n"
   ]
  },
  {
   "cell_type": "markdown",
   "id": "1aa5db65-2a4c-48cf-9d41-c7ee64f02adf",
   "metadata": {},
   "source": [
    "2b. Now modify the game of 2a by eliminating the possibility of having no winner, that means, every time they roll the same number, they need to roll again until there is a winner. Compute the probability $p_1$ for player 1 to win and the probability $p_2$ for player 2 to win.\n",
    "\n",
    "**Bonus:** Can you find analytical expressions for these probabilities? "
   ]
  },
  {
   "cell_type": "code",
   "execution_count": 2,
   "id": "18cca7fa-3328-4d8d-ad58-62d0827f6cd6",
   "metadata": {},
   "outputs": [],
   "source": [
    "# WRITE CODE HERE\n"
   ]
  }
 ],
 "metadata": {
  "kernelspec": {
   "display_name": "Python 3 (ipykernel)",
   "language": "python",
   "name": "python3"
  },
  "language_info": {
   "codemirror_mode": {
    "name": "ipython",
    "version": 3
   },
   "file_extension": ".py",
   "mimetype": "text/x-python",
   "name": "python",
   "nbconvert_exporter": "python",
   "pygments_lexer": "ipython3",
   "version": "3.12.0"
  }
 },
 "nbformat": 4,
 "nbformat_minor": 5
}
