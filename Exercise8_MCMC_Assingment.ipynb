{
 "cells": [
  {
   "cell_type": "markdown",
   "metadata": {},
   "source": [
    "# Exercise 1: Warmup "
   ]
  },
  {
   "cell_type": "markdown",
   "metadata": {},
   "source": [
    "We want to simulate the coin toss experiment and learn the probability of the coin to show either side."
   ]
  },
  {
   "cell_type": "markdown",
   "metadata": {},
   "source": [
    "1) Set some ground truth $\\mu_{true} \\in (0,1)$ and draw one sample from the Bernoulli distribution to simulate a coin-toss."
   ]
  },
  {
   "cell_type": "markdown",
   "metadata": {},
   "source": [
    "2) A priori we assume a flat prior on the unit interval, i.e. a Beta distribution with parameters $\\alpha =\\beta = 1$. Plot this prior distribution and indicate the ground truth $\\mu_{true}$ as vertical line."
   ]
  },
  {
   "cell_type": "markdown",
   "metadata": {},
   "source": [
    "3) As the Beta distribution is the conjugate prior to the Bernoulli likelihood, the posterior will be again a Beta distribution with updated $\\alpha$ and $\\beta$ parameters. Use the result from the experiment in the beginning and calculate the posterior. Add the curve of this distribution to the previous plot."
   ]
  },
  {
   "cell_type": "markdown",
   "metadata": {},
   "source": [
    "4) We want to perform continual learning and use this updated distribution as prior for future experiments. Simulate three more coin tosses with the same rate, calculate the posterior distri- bution, and add it to the plot."
   ]
  },
  {
   "cell_type": "markdown",
   "metadata": {},
   "source": [
    "5) Repeat this for another 100 tosses and discuss your findings."
   ]
  },
  {
   "cell_type": "markdown",
   "metadata": {},
   "source": [
    "# Exercise 2: Metropolis-Hastings Algorithm for 2D Gaussian Distribution"
   ]
  },
  {
   "cell_type": "markdown",
   "metadata": {},
   "source": [
    "1) Implement the Metropolis-Hastings algorithm for a 2D Gaussian distribution."
   ]
  },
  {
   "cell_type": "code",
   "execution_count": 20,
   "metadata": {},
   "outputs": [],
   "source": [
    "import numpy as np\n",
    "from scipy.stats import multivariate_normal"
   ]
  },
  {
   "cell_type": "markdown",
   "metadata": {},
   "source": [
    "2) Visualize the generated samples in 2D space and compare them with the true distribution. Try to produce a .gif showing the samples being generated as a function of time"
   ]
  },
  {
   "cell_type": "code",
   "execution_count": 21,
   "metadata": {},
   "outputs": [],
   "source": [
    "import matplotlib.pyplot as plt\n",
    "from matplotlib.animation import FuncAnimation"
   ]
  },
  {
   "cell_type": "markdown",
   "metadata": {},
   "source": [
    "3) Experiment with different proposal distributions and observe their impact on the algorithm's."
   ]
  },
  {
   "cell_type": "markdown",
   "metadata": {},
   "source": [
    "# Exercise 3: Hamiltonian Monte Carlo for 2D Gaussian Distribution"
   ]
  },
  {
   "cell_type": "markdown",
   "metadata": {},
   "source": [
    "There are many other algorithms that were not explicitly presented in the lecture. Pick one and modify your $Exercise$ 2 solution. For example you could try with Hamiltonian MC"
   ]
  },
  {
   "cell_type": "markdown",
   "metadata": {},
   "source": [
    "1) implement the Hamiltonian Monte Carlo algorithm for a 2D Gaussian distribution."
   ]
  },
  {
   "cell_type": "code",
   "execution_count": 22,
   "metadata": {},
   "outputs": [],
   "source": [
    "import numpy as np\n",
    "from scipy.stats import multivariate_normal"
   ]
  },
  {
   "cell_type": "markdown",
   "metadata": {},
   "source": [
    "2) Visualize the generated samples in 2D space and compare them with the true distribution. Try to produce a .gif showing the samples being generated as a function of time"
   ]
  },
  {
   "cell_type": "code",
   "execution_count": 23,
   "metadata": {},
   "outputs": [],
   "source": [
    "import matplotlib.pyplot as plt\n",
    "from matplotlib.animation import FuncAnimation"
   ]
  },
  {
   "cell_type": "markdown",
   "metadata": {},
   "source": [
    "3) Experiment with different step sizes and the number of leapfrog steps to observe their impact on the algorithm's performance in the 2D case."
   ]
  }
 ],
 "metadata": {
  "kernelspec": {
   "display_name": "Python 3",
   "language": "python",
   "name": "python3"
  },
  "language_info": {
   "codemirror_mode": {
    "name": "ipython",
    "version": 3
   },
   "file_extension": ".py",
   "mimetype": "text/x-python",
   "name": "python",
   "nbconvert_exporter": "python",
   "pygments_lexer": "ipython3",
   "version": "3.9.6"
  }
 },
 "nbformat": 4,
 "nbformat_minor": 2
}
