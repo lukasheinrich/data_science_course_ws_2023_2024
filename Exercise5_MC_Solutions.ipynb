{
 "cells": [
  {
   "cell_type": "markdown",
   "id": "0f6dd915-7cdb-44b7-b79d-94b863ddb282",
   "metadata": {},
   "source": [
    "# Exercise 5\n",
    "\n",
    "## MC Simulation"
   ]
  },
  {
   "cell_type": "code",
   "execution_count": 1,
   "id": "a0ec9f50-27e8-439a-8110-24bc94f5f909",
   "metadata": {},
   "outputs": [],
   "source": [
    "import numpy as np"
   ]
  },
  {
   "cell_type": "markdown",
   "id": "5754a6ee-9dda-4f1b-b1d9-910ebca02266",
   "metadata": {},
   "source": [
    "1. We want to determine the value of $\\pi$. We can do this by thinking of a circle inside a square, such that the side of the square is twice the radius of the circle. Think of how can you approximate $\\pi$ by throwing \"balls\" into the square and comparing the amount of balls falling inside and outside the circle."
   ]
  },
  {
   "cell_type": "code",
   "execution_count": null,
   "id": "908da99e-ac77-4576-9972-dc55c40e0598",
   "metadata": {},
   "outputs": [],
   "source": [
    "# WRITE CODE HERE\n"
   ]
  },
  {
   "cell_type": "code",
   "execution_count": 174,
   "id": "85f5b9fc-0e83-487c-8d7d-8afd2fc4bc00",
   "metadata": {},
   "outputs": [
    {
     "name": "stdout",
     "output_type": "stream",
     "text": [
      "Simulated value: 3.143732\n",
      "Real value: 3.141592653589793\n"
     ]
    }
   ],
   "source": [
    "def estimate_pi(N=1000000, r=1):\n",
    "    # Generate N points inside a square (2*r x 2*r) with its center at the origin \n",
    "    data_sim = (2 * np.random.rand(N, 2) - 1) * r \n",
    "    # Count the points inside a circle of radius r\n",
    "    N_in = ((data_sim**2).sum(axis=1) < r**2).sum()\n",
    "    # A_circle/A_square = N_in/N => (pi*r**2)/(2*r)**2 = N_in/N => pi = 4*N_in/N\n",
    "    pi = 4 * N_in / N\n",
    "    return pi\n",
    "\n",
    "print('Simulated value: ' + f'{estimate_pi()}')\n",
    "print('Real value: ' + f'{np.pi}')"
   ]
  },
  {
   "cell_type": "markdown",
   "id": "dc50f449-dcd8-4a3a-adbb-f3bd6093d828",
   "metadata": {},
   "source": [
    "2a. Imagine the following game: player 1 and player 2 have each a die of $n_1$ and $n_2$ sides, respectively (i.e player 1 has a die with $n_1$ sides going from $1$ to $n_1$ and player 2 a die with $n_2$ sides going from $1$ to $n_2$). The game consists in each player rolling his die and comparing the results, the larger number wins. Compute the probability $p_1$ for player 1 to win, the probability $p_2$ for player 2 to win and the probability $p_0$ that there is no winner.\n",
    "\n",
    "**Bonus:** Find the analytical expressions for these probabilities."
   ]
  },
  {
   "cell_type": "code",
   "execution_count": null,
   "id": "fc460d82-2e0f-4306-8a93-4087715fc06b",
   "metadata": {},
   "outputs": [],
   "source": [
    "# WRITE CODE HERE\n"
   ]
  },
  {
   "cell_type": "code",
   "execution_count": 3,
   "id": "aa0cc5ad-f412-4abd-91af-2c19b227a6a6",
   "metadata": {},
   "outputs": [
    {
     "name": "stdout",
     "output_type": "stream",
     "text": [
      "Simulated probabilities: (0.11008, 0.27973, 0.61019)\n",
      "Real probabilities: (0.1111111111111111, 0.2777777777777778, 0.6111111111111112)\n"
     ]
    }
   ],
   "source": [
    "def game_A(n1, n2, N=100000):\n",
    "    player1 = np.random.randint(1, n1 + 1, size=N)\n",
    "    player2 = np.random.randint(1, n2 + 1, size=N)\n",
    "    p0 = (player1 == player2).sum()/N\n",
    "    p1 = (player1 > player2).sum()/N\n",
    "    p2 = (player1 < player2).sum()/N\n",
    "    return p0, p1, p2\n",
    "\n",
    "\n",
    "def prob_A(n1, n2): \n",
    "\n",
    "    max = np.max((n1, n2))\n",
    "    min = np.min((n1, n2))\n",
    "\n",
    "    p0 = 1/max\n",
    "    p1 = (min - 1) / (2 * max)\n",
    "    p2 = 1 - (min + 1) / (2 * max)\n",
    "    if n1 > n2:\n",
    "        p1, p2 = p2, p1\n",
    "    \n",
    "    return p0, p1, p2\n",
    "\n",
    "n1 = 6\n",
    "n2 = 9\n",
    "print('Simulated probabilities: ' + f'{game_A(n1, n2)}')\n",
    "print('Real probabilities: ' + f'{prob_A(n1, n2)}')"
   ]
  },
  {
   "cell_type": "markdown",
   "id": "1aa5db65-2a4c-48cf-9d41-c7ee64f02adf",
   "metadata": {},
   "source": [
    "2b. Now modify the game of 2a by eliminating the possibility of having no winner, that means, every time they roll the same number, they need to roll again until there is a winner. Compute the probability $p_1$ for player 1 to win and the probability $p_2$ for player 2 to win.\n",
    "\n",
    "**Bonus:** Can you find analytical expressions for these probabilities? "
   ]
  },
  {
   "cell_type": "code",
   "execution_count": null,
   "id": "18cca7fa-3328-4d8d-ad58-62d0827f6cd6",
   "metadata": {},
   "outputs": [],
   "source": [
    "# WRITE CODE HERE\n"
   ]
  },
  {
   "cell_type": "code",
   "execution_count": 4,
   "id": "083375da-6695-4a4c-a524-5bb7081cdd78",
   "metadata": {},
   "outputs": [
    {
     "name": "stdout",
     "output_type": "stream",
     "text": [
      "Simulated probabilities: (0.2228493339406935, 0.7771506660593065)\n",
      "Real probabilities: (0.22222222222222224, 0.7777777777777777)\n"
     ]
    }
   ],
   "source": [
    "def game_B(n1, n2, N=100000):\n",
    "    player1 = np.random.randint(1, n1 + 1, size=N)\n",
    "    player2 = np.random.randint(1, n2 + 1, size=N)\n",
    "    N_games = (player1 != player2).sum()\n",
    "    p1 = (player1 > player2).sum()/N_games\n",
    "    p2 = (player1 < player2).sum()/N_games\n",
    "    return p1, p2\n",
    "\n",
    "def prob_B(n1, n2): \n",
    "\n",
    "    p0, p1, p2 = prob_A(n1, n2)\n",
    "    p1 /= 1 - p0\n",
    "    p2 /= 1 - p0\n",
    "    \n",
    "    return p1, p2\n",
    "\n",
    "n1 = 5\n",
    "n2 = 10\n",
    "print('Simulated probabilities: ' + f'{game_B(n1, n2)}')\n",
    "print('Real probabilities: ' + f'{prob_B(n1, n2)}')"
   ]
  },
  {
   "cell_type": "code",
   "execution_count": null,
   "id": "19d2b6d0-0fc3-4162-b06d-f5a266f6dc28",
   "metadata": {},
   "outputs": [],
   "source": []
  }
 ],
 "metadata": {
  "kernelspec": {
   "display_name": "Python 3 (ipykernel)",
   "language": "python",
   "name": "python3"
  },
  "language_info": {
   "codemirror_mode": {
    "name": "ipython",
    "version": 3
   },
   "file_extension": ".py",
   "mimetype": "text/x-python",
   "name": "python",
   "nbconvert_exporter": "python",
   "pygments_lexer": "ipython3",
   "version": "3.9.12"
  }
 },
 "nbformat": 4,
 "nbformat_minor": 5
}
