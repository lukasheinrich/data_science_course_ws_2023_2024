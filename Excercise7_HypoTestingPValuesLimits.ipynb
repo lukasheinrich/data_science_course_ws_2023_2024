{
 "cells": [
  {
   "cell_type": "code",
   "execution_count": 42,
   "metadata": {},
   "outputs": [],
   "source": [
    "import numpy as np\n",
    "import matplotlib.pyplot as plt\n",
    "import scipy.stats as sps"
   ]
  },
  {
   "cell_type": "markdown",
   "metadata": {},
   "source": [
    "# 1: Hypothesis testing on Gaussian sampling distributions"
   ]
  },
  {
   "cell_type": "markdown",
   "metadata": {},
   "source": [
    "### 1.1: Write a sampling model that returns samples from the likelihood ratio test for a Gaussian distribution with mean $\\mu$ and $\\sigma=1$. Visualize the samples for $\\mu=0.5$ (which will be our null hypothesis) and for $\\mu=2.0$ (which will be our alternative hypothesis)"
   ]
  },
  {
   "cell_type": "markdown",
   "metadata": {},
   "source": [
    "Use the likelihood ratio test defined as:\n",
    "\n",
    "$$t_\\mu = -2 \\log \\frac{L(\\mu)}{L(\\hat{\\mu})}$$"
   ]
  },
  {
   "cell_type": "markdown",
   "metadata": {},
   "source": [
    "### 1.2 What is the required threshold value in the test statistic in order to achieve a test of size 5%?"
   ]
  },
  {
   "cell_type": "markdown",
   "metadata": {},
   "source": [
    "### 1.2: For the observation $x=2.7$, compute an approximate p-value based on the sampled data. Given that p-value, would you accept or reject the null-hypothesis?"
   ]
  },
  {
   "cell_type": "markdown",
   "metadata": {},
   "source": [
    "# 2: Poisson Intervals\n",
    "\n",
    "Take a Poisson distribution $Poiss(n|s + b)$ with known background $b = 3.0$ and signal $s$. Assume you have observed 8 events.\n"
   ]
  },
  {
   "cell_type": "markdown",
   "metadata": {},
   "source": [
    "### 2.1: Create a function that returns the Poisson model above, as a function of $s$."
   ]
  },
  {
   "cell_type": "markdown",
   "metadata": {},
   "source": [
    "### 2.2: At which value for $s$ does the probability to observe data less extreme than your observation (i.e. a value smaller than your observation 8) drop below 0.05? At which value does the probablity to observe more extreme events drop below 0.05?"
   ]
  },
  {
   "cell_type": "markdown",
   "metadata": {},
   "source": [
    "### 2.3: Neyman Construction: Generalize 2.2 to any observed data and plot the acceptance region over the observed data."
   ]
  },
  {
   "cell_type": "code",
   "execution_count": null,
   "metadata": {},
   "outputs": [],
   "source": []
  },
  {
   "cell_type": "code",
   "execution_count": null,
   "metadata": {},
   "outputs": [],
   "source": []
  }
 ],
 "metadata": {
  "kernelspec": {
   "display_name": "Python 3",
   "language": "python",
   "name": "python3"
  },
  "language_info": {
   "codemirror_mode": {
    "name": "ipython",
    "version": 3
   },
   "file_extension": ".py",
   "mimetype": "text/x-python",
   "name": "python",
   "nbconvert_exporter": "python",
   "pygments_lexer": "ipython3",
   "version": "3.9.18"
  }
 },
 "nbformat": 4,
 "nbformat_minor": 2
}
