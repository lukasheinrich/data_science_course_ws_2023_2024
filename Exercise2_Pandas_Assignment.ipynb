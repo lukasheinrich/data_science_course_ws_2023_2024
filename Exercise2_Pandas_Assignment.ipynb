{
 "cells": [
  {
   "cell_type": "markdown",
   "id": "2169253b-dec0-4680-91e8-9c27ace51c3e",
   "metadata": {},
   "source": [
    "# Exercise 2\n",
    "\n",
    "## Pandas"
   ]
  },
  {
   "cell_type": "code",
   "execution_count": 208,
   "id": "a19f1ab9-4abd-4162-ab02-4d4cbc37246b",
   "metadata": {},
   "outputs": [],
   "source": [
    "import pandas as pd\n",
    "import numpy as np"
   ]
  },
  {
   "cell_type": "markdown",
   "id": "c4195b85-a92b-4c4a-b9b5-178010e605b5",
   "metadata": {},
   "source": [
    "1. Load the file 'worldcities.csv' from last tutorial (https://simplemaps.com/data/world-cities) as a pd.DataFrame and display the first 5 rows"
   ]
  },
  {
   "cell_type": "code",
   "execution_count": null,
   "id": "f64c46ec-88f5-4878-9299-d4224cef4a59",
   "metadata": {},
   "outputs": [],
   "source": [
    "# WRITE CODE HERE\n"
   ]
  },
  {
   "cell_type": "code",
   "execution_count": 209,
   "id": "a50bf5ce-2a59-4416-b43d-8434a42c1bf5",
   "metadata": {},
   "outputs": [
    {
     "data": {
      "text/html": [
       "<div>\n",
       "<style scoped>\n",
       "    .dataframe tbody tr th:only-of-type {\n",
       "        vertical-align: middle;\n",
       "    }\n",
       "\n",
       "    .dataframe tbody tr th {\n",
       "        vertical-align: top;\n",
       "    }\n",
       "\n",
       "    .dataframe thead th {\n",
       "        text-align: right;\n",
       "    }\n",
       "</style>\n",
       "<table border=\"1\" class=\"dataframe\">\n",
       "  <thead>\n",
       "    <tr style=\"text-align: right;\">\n",
       "      <th></th>\n",
       "      <th>city</th>\n",
       "      <th>city_ascii</th>\n",
       "      <th>lat</th>\n",
       "      <th>lng</th>\n",
       "      <th>country</th>\n",
       "      <th>iso2</th>\n",
       "      <th>iso3</th>\n",
       "      <th>admin_name</th>\n",
       "      <th>capital</th>\n",
       "      <th>population</th>\n",
       "      <th>id</th>\n",
       "    </tr>\n",
       "  </thead>\n",
       "  <tbody>\n",
       "    <tr>\n",
       "      <th>0</th>\n",
       "      <td>Tokyo</td>\n",
       "      <td>Tokyo</td>\n",
       "      <td>35.6897</td>\n",
       "      <td>139.6922</td>\n",
       "      <td>Japan</td>\n",
       "      <td>JP</td>\n",
       "      <td>JPN</td>\n",
       "      <td>Tōkyō</td>\n",
       "      <td>primary</td>\n",
       "      <td>37732000.0</td>\n",
       "      <td>1392685764</td>\n",
       "    </tr>\n",
       "    <tr>\n",
       "      <th>1</th>\n",
       "      <td>Jakarta</td>\n",
       "      <td>Jakarta</td>\n",
       "      <td>-6.1750</td>\n",
       "      <td>106.8275</td>\n",
       "      <td>Indonesia</td>\n",
       "      <td>ID</td>\n",
       "      <td>IDN</td>\n",
       "      <td>Jakarta</td>\n",
       "      <td>primary</td>\n",
       "      <td>33756000.0</td>\n",
       "      <td>1360771077</td>\n",
       "    </tr>\n",
       "    <tr>\n",
       "      <th>2</th>\n",
       "      <td>Delhi</td>\n",
       "      <td>Delhi</td>\n",
       "      <td>28.6100</td>\n",
       "      <td>77.2300</td>\n",
       "      <td>India</td>\n",
       "      <td>IN</td>\n",
       "      <td>IND</td>\n",
       "      <td>Delhi</td>\n",
       "      <td>admin</td>\n",
       "      <td>32226000.0</td>\n",
       "      <td>1356872604</td>\n",
       "    </tr>\n",
       "    <tr>\n",
       "      <th>3</th>\n",
       "      <td>Guangzhou</td>\n",
       "      <td>Guangzhou</td>\n",
       "      <td>23.1300</td>\n",
       "      <td>113.2600</td>\n",
       "      <td>China</td>\n",
       "      <td>CN</td>\n",
       "      <td>CHN</td>\n",
       "      <td>Guangdong</td>\n",
       "      <td>admin</td>\n",
       "      <td>26940000.0</td>\n",
       "      <td>1156237133</td>\n",
       "    </tr>\n",
       "    <tr>\n",
       "      <th>4</th>\n",
       "      <td>Mumbai</td>\n",
       "      <td>Mumbai</td>\n",
       "      <td>19.0761</td>\n",
       "      <td>72.8775</td>\n",
       "      <td>India</td>\n",
       "      <td>IN</td>\n",
       "      <td>IND</td>\n",
       "      <td>Mahārāshtra</td>\n",
       "      <td>admin</td>\n",
       "      <td>24973000.0</td>\n",
       "      <td>1356226629</td>\n",
       "    </tr>\n",
       "  </tbody>\n",
       "</table>\n",
       "</div>"
      ],
      "text/plain": [
       "        city city_ascii      lat       lng    country iso2 iso3   admin_name  \\\n",
       "0      Tokyo      Tokyo  35.6897  139.6922      Japan   JP  JPN        Tōkyō   \n",
       "1    Jakarta    Jakarta  -6.1750  106.8275  Indonesia   ID  IDN      Jakarta   \n",
       "2      Delhi      Delhi  28.6100   77.2300      India   IN  IND        Delhi   \n",
       "3  Guangzhou  Guangzhou  23.1300  113.2600      China   CN  CHN    Guangdong   \n",
       "4     Mumbai     Mumbai  19.0761   72.8775      India   IN  IND  Mahārāshtra   \n",
       "\n",
       "   capital  population          id  \n",
       "0  primary  37732000.0  1392685764  \n",
       "1  primary  33756000.0  1360771077  \n",
       "2    admin  32226000.0  1356872604  \n",
       "3    admin  26940000.0  1156237133  \n",
       "4    admin  24973000.0  1356226629  "
      ]
     },
     "execution_count": 209,
     "metadata": {},
     "output_type": "execute_result"
    }
   ],
   "source": [
    "# DON'T EXECUTE THIS CELL"
   ]
  },
  {
   "cell_type": "markdown",
   "id": "d763ed14-a66d-47de-814c-e8cd78148215",
   "metadata": {},
   "source": [
    "2. How many cities are there?"
   ]
  },
  {
   "cell_type": "code",
   "execution_count": null,
   "id": "4a7dc948-dab1-45af-b7bb-0fc4f5121159",
   "metadata": {},
   "outputs": [],
   "source": [
    "# WRITE CODE HERE\n"
   ]
  },
  {
   "cell_type": "code",
   "execution_count": 210,
   "id": "f49a4e27-7269-49cc-b3be-7e7ede7de33a",
   "metadata": {},
   "outputs": [
    {
     "data": {
      "text/plain": [
       "44691"
      ]
     },
     "execution_count": 210,
     "metadata": {},
     "output_type": "execute_result"
    }
   ],
   "source": [
    "# DON'T EXECUTE THIS CELL"
   ]
  },
  {
   "cell_type": "markdown",
   "id": "afe1bf46-197d-4f08-b5bc-e5db39bd78b7",
   "metadata": {},
   "source": [
    "3. Determine how many missing inputs there are in each column"
   ]
  },
  {
   "cell_type": "code",
   "execution_count": null,
   "id": "a0250ec3-4ce6-47e1-9314-fe7f50a9a5b8",
   "metadata": {},
   "outputs": [],
   "source": [
    "# WRITE CODE HERE\n"
   ]
  },
  {
   "cell_type": "code",
   "execution_count": 211,
   "id": "c5eb2037-26d5-44dd-b2b7-7b01e620d883",
   "metadata": {},
   "outputs": [
    {
     "data": {
      "text/plain": [
       "city              0\n",
       "city_ascii        0\n",
       "lat               0\n",
       "lng               0\n",
       "country           0\n",
       "iso2             33\n",
       "iso3              0\n",
       "admin_name      316\n",
       "capital       33553\n",
       "population      307\n",
       "id                0\n",
       "dtype: int64"
      ]
     },
     "execution_count": 211,
     "metadata": {},
     "output_type": "execute_result"
    }
   ],
   "source": [
    "# DON'T EXECUTE THIS CELL"
   ]
  },
  {
   "cell_type": "markdown",
   "id": "56d52173-23a4-4b4d-8818-34bb6e2fc2ac",
   "metadata": {},
   "source": [
    "4. Drop the columns 'city_ascii', 'admin_name', 'capital', 'id', which we will not need in the following and display the **last** 5 rows"
   ]
  },
  {
   "cell_type": "code",
   "execution_count": null,
   "id": "10389563-5a66-4072-a096-a835741a46b7",
   "metadata": {},
   "outputs": [],
   "source": [
    "# WRITE CODE HERE\n"
   ]
  },
  {
   "cell_type": "code",
   "execution_count": 212,
   "id": "b8cb5506-e8c2-48e7-9afd-31b02913e8fa",
   "metadata": {},
   "outputs": [
    {
     "data": {
      "text/html": [
       "<div>\n",
       "<style scoped>\n",
       "    .dataframe tbody tr th:only-of-type {\n",
       "        vertical-align: middle;\n",
       "    }\n",
       "\n",
       "    .dataframe tbody tr th {\n",
       "        vertical-align: top;\n",
       "    }\n",
       "\n",
       "    .dataframe thead th {\n",
       "        text-align: right;\n",
       "    }\n",
       "</style>\n",
       "<table border=\"1\" class=\"dataframe\">\n",
       "  <thead>\n",
       "    <tr style=\"text-align: right;\">\n",
       "      <th></th>\n",
       "      <th>city</th>\n",
       "      <th>lat</th>\n",
       "      <th>lng</th>\n",
       "      <th>country</th>\n",
       "      <th>iso2</th>\n",
       "      <th>iso3</th>\n",
       "      <th>population</th>\n",
       "    </tr>\n",
       "  </thead>\n",
       "  <tbody>\n",
       "    <tr>\n",
       "      <th>44686</th>\n",
       "      <td>Numto</td>\n",
       "      <td>63.6667</td>\n",
       "      <td>71.3333</td>\n",
       "      <td>Russia</td>\n",
       "      <td>RU</td>\n",
       "      <td>RUS</td>\n",
       "      <td>10.0</td>\n",
       "    </tr>\n",
       "    <tr>\n",
       "      <th>44687</th>\n",
       "      <td>Nord</td>\n",
       "      <td>81.7166</td>\n",
       "      <td>-17.8000</td>\n",
       "      <td>Greenland</td>\n",
       "      <td>GL</td>\n",
       "      <td>GRL</td>\n",
       "      <td>10.0</td>\n",
       "    </tr>\n",
       "    <tr>\n",
       "      <th>44688</th>\n",
       "      <td>Timmiarmiut</td>\n",
       "      <td>62.5333</td>\n",
       "      <td>-42.2167</td>\n",
       "      <td>Greenland</td>\n",
       "      <td>GL</td>\n",
       "      <td>GRL</td>\n",
       "      <td>10.0</td>\n",
       "    </tr>\n",
       "    <tr>\n",
       "      <th>44689</th>\n",
       "      <td>San Rafael</td>\n",
       "      <td>-16.7795</td>\n",
       "      <td>-60.6799</td>\n",
       "      <td>Bolivia</td>\n",
       "      <td>BO</td>\n",
       "      <td>BOL</td>\n",
       "      <td>NaN</td>\n",
       "    </tr>\n",
       "    <tr>\n",
       "      <th>44690</th>\n",
       "      <td>Nordvik</td>\n",
       "      <td>74.0165</td>\n",
       "      <td>111.5100</td>\n",
       "      <td>Russia</td>\n",
       "      <td>RU</td>\n",
       "      <td>RUS</td>\n",
       "      <td>0.0</td>\n",
       "    </tr>\n",
       "  </tbody>\n",
       "</table>\n",
       "</div>"
      ],
      "text/plain": [
       "              city      lat       lng    country iso2 iso3  population\n",
       "44686        Numto  63.6667   71.3333     Russia   RU  RUS        10.0\n",
       "44687         Nord  81.7166  -17.8000  Greenland   GL  GRL        10.0\n",
       "44688  Timmiarmiut  62.5333  -42.2167  Greenland   GL  GRL        10.0\n",
       "44689   San Rafael -16.7795  -60.6799    Bolivia   BO  BOL         NaN\n",
       "44690      Nordvik  74.0165  111.5100     Russia   RU  RUS         0.0"
      ]
     },
     "execution_count": 212,
     "metadata": {},
     "output_type": "execute_result"
    }
   ],
   "source": [
    "# DON'T EXECUTE THIS CELL"
   ]
  },
  {
   "cell_type": "markdown",
   "id": "76f05446-de6e-41bf-bb8b-5375a8547504",
   "metadata": {},
   "source": [
    "5. Now remove the cities with no numerical value in the 'population' column. How many cities are left?"
   ]
  },
  {
   "cell_type": "code",
   "execution_count": null,
   "id": "1eee1eea-a6bb-42d2-9725-4e508b047a03",
   "metadata": {},
   "outputs": [],
   "source": [
    "# WRITE CODE HERE\n"
   ]
  },
  {
   "cell_type": "code",
   "execution_count": 213,
   "id": "e9c4a34a-da84-479c-8efe-47a2c2f69961",
   "metadata": {},
   "outputs": [
    {
     "data": {
      "text/plain": [
       "44384"
      ]
     },
     "execution_count": 213,
     "metadata": {},
     "output_type": "execute_result"
    }
   ],
   "source": [
    "# DON'T EXECUTE THIS CELL"
   ]
  },
  {
   "cell_type": "markdown",
   "id": "df5b00b5-3db4-4719-9c58-884d7de7f126",
   "metadata": {},
   "source": [
    "6. Display the city with the largest population as pd.Series"
   ]
  },
  {
   "cell_type": "code",
   "execution_count": null,
   "id": "0b28513c-10bb-4785-a2b4-a9ec97ee5c52",
   "metadata": {},
   "outputs": [],
   "source": [
    "# WRITE CODE HERE\n"
   ]
  },
  {
   "cell_type": "code",
   "execution_count": 214,
   "id": "e2a743fd-a6b0-4281-baca-8b60198f87d6",
   "metadata": {},
   "outputs": [
    {
     "data": {
      "text/plain": [
       "city               Tokyo\n",
       "lat              35.6897\n",
       "lng             139.6922\n",
       "country            Japan\n",
       "iso2                  JP\n",
       "iso3                 JPN\n",
       "population    37732000.0\n",
       "Name: 0, dtype: object"
      ]
     },
     "execution_count": 214,
     "metadata": {},
     "output_type": "execute_result"
    }
   ],
   "source": [
    "# DON'T EXECUTE THIS CELL"
   ]
  },
  {
   "cell_type": "markdown",
   "id": "737debf2-d098-44d4-ad73-f011c7f8badc",
   "metadata": {},
   "source": [
    "7. How many countries are present in the data and how many people are included in the data? "
   ]
  },
  {
   "cell_type": "code",
   "execution_count": null,
   "id": "a596e997-57d5-4b25-941d-082431300b96",
   "metadata": {},
   "outputs": [],
   "source": [
    "# WRITE CODE HERE\n"
   ]
  },
  {
   "cell_type": "code",
   "execution_count": 215,
   "id": "ae58f0c7-0f8b-4f48-8ab8-86114739b1d4",
   "metadata": {},
   "outputs": [
    {
     "data": {
      "text/plain": [
       "(230, 5076372338)"
      ]
     },
     "execution_count": 215,
     "metadata": {},
     "output_type": "execute_result"
    }
   ],
   "source": [
    "# DON'T EXECUTE THIS CELL"
   ]
  },
  {
   "cell_type": "markdown",
   "id": "abeec56e-599d-409b-b115-b299dbbc73c9",
   "metadata": {},
   "source": [
    "8. Create a list \"countries_few\" of countries that have less than $n$ cities (at least in the data). Order them alphabetically (use $n = 3$)"
   ]
  },
  {
   "cell_type": "code",
   "execution_count": null,
   "id": "f4884532-d173-4989-b303-01ca68334181",
   "metadata": {},
   "outputs": [],
   "source": [
    "# WRITE CODE HERE\n"
   ]
  },
  {
   "cell_type": "code",
   "execution_count": 216,
   "id": "9dcfd4aa-76bc-4f73-bbd8-bc0f5b2ed5a3",
   "metadata": {},
   "outputs": [
    {
     "data": {
      "text/plain": [
       "['American Samoa',\n",
       " 'Antigua and Barbuda',\n",
       " 'Aruba',\n",
       " 'Barbados',\n",
       " 'Bermuda',\n",
       " 'British Virgin Islands',\n",
       " 'Cayman Islands',\n",
       " 'Cook Islands',\n",
       " 'Curaçao',\n",
       " 'Dominica',\n",
       " 'Falkland Islands (Islas Malvinas)',\n",
       " 'French Polynesia',\n",
       " 'Gibraltar',\n",
       " 'Grenada',\n",
       " 'Guadeloupe',\n",
       " 'Guam',\n",
       " 'Isle Of Man',\n",
       " 'Jersey',\n",
       " 'Kiribati',\n",
       " 'Macau',\n",
       " 'Marshall Islands',\n",
       " 'Martinique',\n",
       " 'Mayotte',\n",
       " 'Monaco',\n",
       " 'Montserrat',\n",
       " 'Niue',\n",
       " 'Northern Mariana Islands',\n",
       " 'Reunion',\n",
       " 'Saint Helena, Ascension, and Tristan da Cunha',\n",
       " 'Saint Kitts and Nevis',\n",
       " 'Saint Martin',\n",
       " 'Saint Vincent and the Grenadines',\n",
       " 'Seychelles',\n",
       " 'Singapore',\n",
       " 'Sint Maarten',\n",
       " 'South Georgia and South Sandwich Islands',\n",
       " 'Tonga',\n",
       " 'Turks and Caicos Islands',\n",
       " 'Tuvalu',\n",
       " 'Vatican City']"
      ]
     },
     "execution_count": 216,
     "metadata": {},
     "output_type": "execute_result"
    }
   ],
   "source": [
    "# DON'T EXECUTE THIS CELL"
   ]
  },
  {
   "cell_type": "markdown",
   "id": "8b59c52c-6a07-4269-9512-40a32ffda986",
   "metadata": {},
   "source": [
    "9. Redefine our pd.DataFrame to contain only countries that are not in \"countries_few\", i.e. that have $\\geq n$ cities"
   ]
  },
  {
   "cell_type": "code",
   "execution_count": null,
   "id": "098f1074-46dd-4184-a343-6b8d5f544441",
   "metadata": {},
   "outputs": [],
   "source": [
    "# WRITE CODE HERE\n"
   ]
  },
  {
   "cell_type": "code",
   "execution_count": 217,
   "id": "f52b31fa-9786-40da-a7fa-261a0f649879",
   "metadata": {},
   "outputs": [
    {
     "data": {
      "text/html": [
       "<div>\n",
       "<style scoped>\n",
       "    .dataframe tbody tr th:only-of-type {\n",
       "        vertical-align: middle;\n",
       "    }\n",
       "\n",
       "    .dataframe tbody tr th {\n",
       "        vertical-align: top;\n",
       "    }\n",
       "\n",
       "    .dataframe thead th {\n",
       "        text-align: right;\n",
       "    }\n",
       "</style>\n",
       "<table border=\"1\" class=\"dataframe\">\n",
       "  <thead>\n",
       "    <tr style=\"text-align: right;\">\n",
       "      <th></th>\n",
       "      <th>city</th>\n",
       "      <th>lat</th>\n",
       "      <th>lng</th>\n",
       "      <th>country</th>\n",
       "      <th>iso2</th>\n",
       "      <th>iso3</th>\n",
       "      <th>population</th>\n",
       "    </tr>\n",
       "  </thead>\n",
       "  <tbody>\n",
       "    <tr>\n",
       "      <th>0</th>\n",
       "      <td>Tokyo</td>\n",
       "      <td>35.6897</td>\n",
       "      <td>139.6922</td>\n",
       "      <td>Japan</td>\n",
       "      <td>JP</td>\n",
       "      <td>JPN</td>\n",
       "      <td>37732000.0</td>\n",
       "    </tr>\n",
       "    <tr>\n",
       "      <th>1</th>\n",
       "      <td>Jakarta</td>\n",
       "      <td>-6.1750</td>\n",
       "      <td>106.8275</td>\n",
       "      <td>Indonesia</td>\n",
       "      <td>ID</td>\n",
       "      <td>IDN</td>\n",
       "      <td>33756000.0</td>\n",
       "    </tr>\n",
       "    <tr>\n",
       "      <th>2</th>\n",
       "      <td>Delhi</td>\n",
       "      <td>28.6100</td>\n",
       "      <td>77.2300</td>\n",
       "      <td>India</td>\n",
       "      <td>IN</td>\n",
       "      <td>IND</td>\n",
       "      <td>32226000.0</td>\n",
       "    </tr>\n",
       "    <tr>\n",
       "      <th>3</th>\n",
       "      <td>Guangzhou</td>\n",
       "      <td>23.1300</td>\n",
       "      <td>113.2600</td>\n",
       "      <td>China</td>\n",
       "      <td>CN</td>\n",
       "      <td>CHN</td>\n",
       "      <td>26940000.0</td>\n",
       "    </tr>\n",
       "    <tr>\n",
       "      <th>4</th>\n",
       "      <td>Mumbai</td>\n",
       "      <td>19.0761</td>\n",
       "      <td>72.8775</td>\n",
       "      <td>India</td>\n",
       "      <td>IN</td>\n",
       "      <td>IND</td>\n",
       "      <td>24973000.0</td>\n",
       "    </tr>\n",
       "    <tr>\n",
       "      <th>...</th>\n",
       "      <td>...</td>\n",
       "      <td>...</td>\n",
       "      <td>...</td>\n",
       "      <td>...</td>\n",
       "      <td>...</td>\n",
       "      <td>...</td>\n",
       "      <td>...</td>\n",
       "    </tr>\n",
       "    <tr>\n",
       "      <th>44685</th>\n",
       "      <td>Tukchi</td>\n",
       "      <td>57.3670</td>\n",
       "      <td>139.5000</td>\n",
       "      <td>Russia</td>\n",
       "      <td>RU</td>\n",
       "      <td>RUS</td>\n",
       "      <td>10.0</td>\n",
       "    </tr>\n",
       "    <tr>\n",
       "      <th>44686</th>\n",
       "      <td>Numto</td>\n",
       "      <td>63.6667</td>\n",
       "      <td>71.3333</td>\n",
       "      <td>Russia</td>\n",
       "      <td>RU</td>\n",
       "      <td>RUS</td>\n",
       "      <td>10.0</td>\n",
       "    </tr>\n",
       "    <tr>\n",
       "      <th>44687</th>\n",
       "      <td>Nord</td>\n",
       "      <td>81.7166</td>\n",
       "      <td>-17.8000</td>\n",
       "      <td>Greenland</td>\n",
       "      <td>GL</td>\n",
       "      <td>GRL</td>\n",
       "      <td>10.0</td>\n",
       "    </tr>\n",
       "    <tr>\n",
       "      <th>44688</th>\n",
       "      <td>Timmiarmiut</td>\n",
       "      <td>62.5333</td>\n",
       "      <td>-42.2167</td>\n",
       "      <td>Greenland</td>\n",
       "      <td>GL</td>\n",
       "      <td>GRL</td>\n",
       "      <td>10.0</td>\n",
       "    </tr>\n",
       "    <tr>\n",
       "      <th>44690</th>\n",
       "      <td>Nordvik</td>\n",
       "      <td>74.0165</td>\n",
       "      <td>111.5100</td>\n",
       "      <td>Russia</td>\n",
       "      <td>RU</td>\n",
       "      <td>RUS</td>\n",
       "      <td>0.0</td>\n",
       "    </tr>\n",
       "  </tbody>\n",
       "</table>\n",
       "<p>44335 rows × 7 columns</p>\n",
       "</div>"
      ],
      "text/plain": [
       "              city      lat       lng    country iso2 iso3  population\n",
       "0            Tokyo  35.6897  139.6922      Japan   JP  JPN  37732000.0\n",
       "1          Jakarta  -6.1750  106.8275  Indonesia   ID  IDN  33756000.0\n",
       "2            Delhi  28.6100   77.2300      India   IN  IND  32226000.0\n",
       "3        Guangzhou  23.1300  113.2600      China   CN  CHN  26940000.0\n",
       "4           Mumbai  19.0761   72.8775      India   IN  IND  24973000.0\n",
       "...            ...      ...       ...        ...  ...  ...         ...\n",
       "44685       Tukchi  57.3670  139.5000     Russia   RU  RUS        10.0\n",
       "44686        Numto  63.6667   71.3333     Russia   RU  RUS        10.0\n",
       "44687         Nord  81.7166  -17.8000  Greenland   GL  GRL        10.0\n",
       "44688  Timmiarmiut  62.5333  -42.2167  Greenland   GL  GRL        10.0\n",
       "44690      Nordvik  74.0165  111.5100     Russia   RU  RUS         0.0\n",
       "\n",
       "[44335 rows x 7 columns]"
      ]
     },
     "execution_count": 217,
     "metadata": {},
     "output_type": "execute_result"
    }
   ],
   "source": [
    "# DON'T EXECUTE THIS CELL"
   ]
  },
  {
   "cell_type": "markdown",
   "id": "3bb772df-8caf-40d8-859a-8ea4de9513db",
   "metadata": {},
   "source": [
    "10. Compute the mean, median and standard deviation of the population **per country** and display the result in descending order w.r.t the mean"
   ]
  },
  {
   "cell_type": "code",
   "execution_count": null,
   "id": "d6b4d6a0-fbfd-4b9a-ab1c-d5e88bf1694b",
   "metadata": {},
   "outputs": [],
   "source": [
    "# WRITE CODE HERE\n"
   ]
  },
  {
   "cell_type": "code",
   "execution_count": 256,
   "id": "64c732ae-4aff-4a0d-bed2-248039c1c765",
   "metadata": {},
   "outputs": [
    {
     "data": {
      "text/html": [
       "<div>\n",
       "<style scoped>\n",
       "    .dataframe tbody tr th:only-of-type {\n",
       "        vertical-align: middle;\n",
       "    }\n",
       "\n",
       "    .dataframe tbody tr th {\n",
       "        vertical-align: top;\n",
       "    }\n",
       "\n",
       "    .dataframe thead th {\n",
       "        text-align: right;\n",
       "    }\n",
       "</style>\n",
       "<table border=\"1\" class=\"dataframe\">\n",
       "  <thead>\n",
       "    <tr style=\"text-align: right;\">\n",
       "      <th></th>\n",
       "      <th>mean</th>\n",
       "      <th>median</th>\n",
       "      <th>std</th>\n",
       "    </tr>\n",
       "    <tr>\n",
       "      <th>country</th>\n",
       "      <th></th>\n",
       "      <th></th>\n",
       "      <th></th>\n",
       "    </tr>\n",
       "  </thead>\n",
       "  <tbody>\n",
       "    <tr>\n",
       "      <th>China</th>\n",
       "      <td>911694.5</td>\n",
       "      <td>77277.0</td>\n",
       "      <td>2037950.7</td>\n",
       "    </tr>\n",
       "    <tr>\n",
       "      <th>Kuwait</th>\n",
       "      <td>736592.2</td>\n",
       "      <td>164212.0</td>\n",
       "      <td>1272481.9</td>\n",
       "    </tr>\n",
       "    <tr>\n",
       "      <th>United Arab Emirates</th>\n",
       "      <td>640793.2</td>\n",
       "      <td>104811.0</td>\n",
       "      <td>990113.5</td>\n",
       "    </tr>\n",
       "    <tr>\n",
       "      <th>South Korea</th>\n",
       "      <td>616318.8</td>\n",
       "      <td>210004.0</td>\n",
       "      <td>2331384.5</td>\n",
       "    </tr>\n",
       "    <tr>\n",
       "      <th>Nigeria</th>\n",
       "      <td>578965.6</td>\n",
       "      <td>221142.5</td>\n",
       "      <td>1664792.4</td>\n",
       "    </tr>\n",
       "    <tr>\n",
       "      <th>...</th>\n",
       "      <td>...</td>\n",
       "      <td>...</td>\n",
       "      <td>...</td>\n",
       "    </tr>\n",
       "    <tr>\n",
       "      <th>Bonaire, Sint Eustatius, and Saba</th>\n",
       "      <td>4040.0</td>\n",
       "      <td>1038.0</td>\n",
       "      <td>5705.7</td>\n",
       "    </tr>\n",
       "    <tr>\n",
       "      <th>San Marino</th>\n",
       "      <td>4023.9</td>\n",
       "      <td>3056.5</td>\n",
       "      <td>3347.8</td>\n",
       "    </tr>\n",
       "    <tr>\n",
       "      <th>Liechtenstein</th>\n",
       "      <td>3505.2</td>\n",
       "      <td>4404.0</td>\n",
       "      <td>1934.9</td>\n",
       "    </tr>\n",
       "    <tr>\n",
       "      <th>Faroe Islands</th>\n",
       "      <td>2849.0</td>\n",
       "      <td>446.0</td>\n",
       "      <td>4890.3</td>\n",
       "    </tr>\n",
       "    <tr>\n",
       "      <th>Greenland</th>\n",
       "      <td>2059.0</td>\n",
       "      <td>746.5</td>\n",
       "      <td>3948.0</td>\n",
       "    </tr>\n",
       "  </tbody>\n",
       "</table>\n",
       "<p>190 rows × 3 columns</p>\n",
       "</div>"
      ],
      "text/plain": [
       "                                       mean    median        std\n",
       "country                                                         \n",
       "China                              911694.5   77277.0  2037950.7\n",
       "Kuwait                             736592.2  164212.0  1272481.9\n",
       "United Arab Emirates               640793.2  104811.0   990113.5\n",
       "South Korea                        616318.8  210004.0  2331384.5\n",
       "Nigeria                            578965.6  221142.5  1664792.4\n",
       "...                                     ...       ...        ...\n",
       "Bonaire, Sint Eustatius, and Saba    4040.0    1038.0     5705.7\n",
       "San Marino                           4023.9    3056.5     3347.8\n",
       "Liechtenstein                        3505.2    4404.0     1934.9\n",
       "Faroe Islands                        2849.0     446.0     4890.3\n",
       "Greenland                            2059.0     746.5     3948.0\n",
       "\n",
       "[190 rows x 3 columns]"
      ]
     },
     "execution_count": 256,
     "metadata": {},
     "output_type": "execute_result"
    }
   ],
   "source": [
    "# DON'T EXECUTE THIS CELL"
   ]
  },
  {
   "cell_type": "markdown",
   "id": "d264db43-70b9-45d5-b794-4e10de791fb6",
   "metadata": {},
   "source": [
    "11. Create columns 'Greenwich' and 'Equator' where the inputs 'W'/'E' and 'N'/'S' correspond to a city being in the west/east of the Greenwich meridian and north/south of the Equator line (use the columns 'lat', 'lng' for this)"
   ]
  },
  {
   "cell_type": "code",
   "execution_count": null,
   "id": "78126a9b-25a4-4fd1-8893-afe194ece178",
   "metadata": {},
   "outputs": [],
   "source": [
    "# WRITE CODE HERE\n"
   ]
  },
  {
   "cell_type": "code",
   "execution_count": 219,
   "id": "8b201ff4-3fdf-4795-acfa-d00d0c04130e",
   "metadata": {},
   "outputs": [
    {
     "data": {
      "text/html": [
       "<div>\n",
       "<style scoped>\n",
       "    .dataframe tbody tr th:only-of-type {\n",
       "        vertical-align: middle;\n",
       "    }\n",
       "\n",
       "    .dataframe tbody tr th {\n",
       "        vertical-align: top;\n",
       "    }\n",
       "\n",
       "    .dataframe thead th {\n",
       "        text-align: right;\n",
       "    }\n",
       "</style>\n",
       "<table border=\"1\" class=\"dataframe\">\n",
       "  <thead>\n",
       "    <tr style=\"text-align: right;\">\n",
       "      <th></th>\n",
       "      <th>city</th>\n",
       "      <th>lat</th>\n",
       "      <th>lng</th>\n",
       "      <th>country</th>\n",
       "      <th>iso2</th>\n",
       "      <th>iso3</th>\n",
       "      <th>population</th>\n",
       "      <th>Greenwich</th>\n",
       "      <th>Equator</th>\n",
       "    </tr>\n",
       "  </thead>\n",
       "  <tbody>\n",
       "    <tr>\n",
       "      <th>0</th>\n",
       "      <td>Tokyo</td>\n",
       "      <td>35.6897</td>\n",
       "      <td>139.6922</td>\n",
       "      <td>Japan</td>\n",
       "      <td>JP</td>\n",
       "      <td>JPN</td>\n",
       "      <td>37732000.0</td>\n",
       "      <td>E</td>\n",
       "      <td>N</td>\n",
       "    </tr>\n",
       "    <tr>\n",
       "      <th>1</th>\n",
       "      <td>Jakarta</td>\n",
       "      <td>-6.1750</td>\n",
       "      <td>106.8275</td>\n",
       "      <td>Indonesia</td>\n",
       "      <td>ID</td>\n",
       "      <td>IDN</td>\n",
       "      <td>33756000.0</td>\n",
       "      <td>E</td>\n",
       "      <td>S</td>\n",
       "    </tr>\n",
       "    <tr>\n",
       "      <th>2</th>\n",
       "      <td>Delhi</td>\n",
       "      <td>28.6100</td>\n",
       "      <td>77.2300</td>\n",
       "      <td>India</td>\n",
       "      <td>IN</td>\n",
       "      <td>IND</td>\n",
       "      <td>32226000.0</td>\n",
       "      <td>E</td>\n",
       "      <td>N</td>\n",
       "    </tr>\n",
       "    <tr>\n",
       "      <th>3</th>\n",
       "      <td>Guangzhou</td>\n",
       "      <td>23.1300</td>\n",
       "      <td>113.2600</td>\n",
       "      <td>China</td>\n",
       "      <td>CN</td>\n",
       "      <td>CHN</td>\n",
       "      <td>26940000.0</td>\n",
       "      <td>E</td>\n",
       "      <td>N</td>\n",
       "    </tr>\n",
       "    <tr>\n",
       "      <th>4</th>\n",
       "      <td>Mumbai</td>\n",
       "      <td>19.0761</td>\n",
       "      <td>72.8775</td>\n",
       "      <td>India</td>\n",
       "      <td>IN</td>\n",
       "      <td>IND</td>\n",
       "      <td>24973000.0</td>\n",
       "      <td>E</td>\n",
       "      <td>N</td>\n",
       "    </tr>\n",
       "    <tr>\n",
       "      <th>...</th>\n",
       "      <td>...</td>\n",
       "      <td>...</td>\n",
       "      <td>...</td>\n",
       "      <td>...</td>\n",
       "      <td>...</td>\n",
       "      <td>...</td>\n",
       "      <td>...</td>\n",
       "      <td>...</td>\n",
       "      <td>...</td>\n",
       "    </tr>\n",
       "    <tr>\n",
       "      <th>44685</th>\n",
       "      <td>Tukchi</td>\n",
       "      <td>57.3670</td>\n",
       "      <td>139.5000</td>\n",
       "      <td>Russia</td>\n",
       "      <td>RU</td>\n",
       "      <td>RUS</td>\n",
       "      <td>10.0</td>\n",
       "      <td>E</td>\n",
       "      <td>N</td>\n",
       "    </tr>\n",
       "    <tr>\n",
       "      <th>44686</th>\n",
       "      <td>Numto</td>\n",
       "      <td>63.6667</td>\n",
       "      <td>71.3333</td>\n",
       "      <td>Russia</td>\n",
       "      <td>RU</td>\n",
       "      <td>RUS</td>\n",
       "      <td>10.0</td>\n",
       "      <td>E</td>\n",
       "      <td>N</td>\n",
       "    </tr>\n",
       "    <tr>\n",
       "      <th>44687</th>\n",
       "      <td>Nord</td>\n",
       "      <td>81.7166</td>\n",
       "      <td>-17.8000</td>\n",
       "      <td>Greenland</td>\n",
       "      <td>GL</td>\n",
       "      <td>GRL</td>\n",
       "      <td>10.0</td>\n",
       "      <td>W</td>\n",
       "      <td>N</td>\n",
       "    </tr>\n",
       "    <tr>\n",
       "      <th>44688</th>\n",
       "      <td>Timmiarmiut</td>\n",
       "      <td>62.5333</td>\n",
       "      <td>-42.2167</td>\n",
       "      <td>Greenland</td>\n",
       "      <td>GL</td>\n",
       "      <td>GRL</td>\n",
       "      <td>10.0</td>\n",
       "      <td>W</td>\n",
       "      <td>N</td>\n",
       "    </tr>\n",
       "    <tr>\n",
       "      <th>44690</th>\n",
       "      <td>Nordvik</td>\n",
       "      <td>74.0165</td>\n",
       "      <td>111.5100</td>\n",
       "      <td>Russia</td>\n",
       "      <td>RU</td>\n",
       "      <td>RUS</td>\n",
       "      <td>0.0</td>\n",
       "      <td>E</td>\n",
       "      <td>N</td>\n",
       "    </tr>\n",
       "  </tbody>\n",
       "</table>\n",
       "<p>44335 rows × 9 columns</p>\n",
       "</div>"
      ],
      "text/plain": [
       "              city      lat       lng    country iso2 iso3  population  \\\n",
       "0            Tokyo  35.6897  139.6922      Japan   JP  JPN  37732000.0   \n",
       "1          Jakarta  -6.1750  106.8275  Indonesia   ID  IDN  33756000.0   \n",
       "2            Delhi  28.6100   77.2300      India   IN  IND  32226000.0   \n",
       "3        Guangzhou  23.1300  113.2600      China   CN  CHN  26940000.0   \n",
       "4           Mumbai  19.0761   72.8775      India   IN  IND  24973000.0   \n",
       "...            ...      ...       ...        ...  ...  ...         ...   \n",
       "44685       Tukchi  57.3670  139.5000     Russia   RU  RUS        10.0   \n",
       "44686        Numto  63.6667   71.3333     Russia   RU  RUS        10.0   \n",
       "44687         Nord  81.7166  -17.8000  Greenland   GL  GRL        10.0   \n",
       "44688  Timmiarmiut  62.5333  -42.2167  Greenland   GL  GRL        10.0   \n",
       "44690      Nordvik  74.0165  111.5100     Russia   RU  RUS         0.0   \n",
       "\n",
       "      Greenwich Equator  \n",
       "0             E       N  \n",
       "1             E       S  \n",
       "2             E       N  \n",
       "3             E       N  \n",
       "4             E       N  \n",
       "...         ...     ...  \n",
       "44685         E       N  \n",
       "44686         E       N  \n",
       "44687         W       N  \n",
       "44688         W       N  \n",
       "44690         E       N  \n",
       "\n",
       "[44335 rows x 9 columns]"
      ]
     },
     "execution_count": 219,
     "metadata": {},
     "output_type": "execute_result"
    }
   ],
   "source": [
    "# DON'T EXECUTE THIS CELL"
   ]
  },
  {
   "cell_type": "markdown",
   "id": "34805f8e-a6dd-43c6-8563-9f7c8679514a",
   "metadata": {},
   "source": [
    "12. Create a dictonary for the 4 different combinations $\\{'E', 'W'\\} \\times \\{'N', 'S'\\}$ or quadrants with the respective amount of cities located in these quadrants"
   ]
  },
  {
   "cell_type": "code",
   "execution_count": 239,
   "id": "966a289c-9ca9-444d-a95f-58c94a19f55f",
   "metadata": {},
   "outputs": [],
   "source": [
    "# WRITE CODE HERE\n"
   ]
  },
  {
   "cell_type": "code",
   "execution_count": 239,
   "id": "d377b10b-b045-48d0-bf51-105bc6e25451",
   "metadata": {},
   "outputs": [
    {
     "data": {
      "text/plain": [
       "{('E', 'N'): 25706, ('E', 'S'): 2306, ('W', 'N'): 12248, ('W', 'S'): 4075}"
      ]
     },
     "execution_count": 239,
     "metadata": {},
     "output_type": "execute_result"
    }
   ],
   "source": [
    "# DON'T EXECUTE THIS CELL"
   ]
  },
  {
   "cell_type": "markdown",
   "id": "ecbc0b5c-8dc0-4377-8b9e-650e35b34041",
   "metadata": {},
   "source": [
    "13. Similarly, create a dictonary with the amount of people for each quadrant"
   ]
  },
  {
   "cell_type": "code",
   "execution_count": 244,
   "id": "6ed2f5ff-d1b3-451f-a392-4d528f29b168",
   "metadata": {},
   "outputs": [],
   "source": [
    "# WRITE CODE HERE\n"
   ]
  },
  {
   "cell_type": "code",
   "execution_count": 244,
   "id": "db54650e-23c7-4536-8424-ca33f27c93bf",
   "metadata": {},
   "outputs": [
    {
     "data": {
      "text/plain": [
       "{('E', 'N'): 3568040297,\n",
       " ('E', 'S'): 280300161,\n",
       " ('W', 'N'): 900316539,\n",
       " ('W', 'S'): 319072020}"
      ]
     },
     "execution_count": 244,
     "metadata": {},
     "output_type": "execute_result"
    }
   ],
   "source": [
    "# DON'T EXECUTE THIS CELL"
   ]
  }
 ],
 "metadata": {
  "kernelspec": {
   "display_name": "Python 3 (ipykernel)",
   "language": "python",
   "name": "python3"
  },
  "language_info": {
   "codemirror_mode": {
    "name": "ipython",
    "version": 3
   },
   "file_extension": ".py",
   "mimetype": "text/x-python",
   "name": "python",
   "nbconvert_exporter": "python",
   "pygments_lexer": "ipython3",
   "version": "3.9.12"
  }
 },
 "nbformat": 4,
 "nbformat_minor": 5
}
