{
 "cells": [
  {
   "cell_type": "markdown",
   "metadata": {},
   "source": [
    "# Exercise 6"
   ]
  },
  {
   "cell_type": "markdown",
   "metadata": {},
   "source": [
    "# Cramér Rao Bound"
   ]
  },
  {
   "cell_type": "markdown",
   "metadata": {},
   "source": [
    "1) Show that the formulations for Fisher Information $$I(θ) = E_x[(∂_θ log p)^2]$$ and $$I(θ) = −E_x[∂_θ^2 log p]$$\n",
    "are equivalent"
   ]
  },
  {
   "cell_type": "markdown",
   "metadata": {},
   "source": [
    "2) Derive an expression for the Fisher Information for n identically random variables i.i.d from $p(x|θ)$. What can you say about how the information behaves as you add samples?"
   ]
  },
  {
   "cell_type": "markdown",
   "metadata": {},
   "source": [
    "In this exercise we will illustrate the property of the MLE estimate of saturatig the Cramér Rao bound by constructig a set of estimators (incl. the MLE one) and comparing it to the bound\n",
    "\n",
    "We start with a standard set of imports."
   ]
  },
  {
   "cell_type": "code",
   "execution_count": 15,
   "metadata": {},
   "outputs": [],
   "source": [
    "import scipy.stats as sps\n",
    "import matplotlib.pyplot as plt\n",
    "import numpy as np"
   ]
  },
  {
   "cell_type": "markdown",
   "metadata": {},
   "source": [
    "We'll consider the Poisson model, which `scipy` provides as `sps.poisson(rate)`. One draw  of 100 numbers represents single experimet."
   ]
  },
  {
   "cell_type": "markdown",
   "metadata": {},
   "source": [
    "Given a fixed rate, simultate 100k experiment."
   ]
  },
  {
   "cell_type": "code",
   "execution_count": null,
   "metadata": {},
   "outputs": [],
   "source": []
  },
  {
   "cell_type": "markdown",
   "metadata": {},
   "source": [
    "Build a few estimators based on the sample mean of the first 10,30,.., and all 100 nunmbers. Then plot the distribution for each, across 100k experiments."
   ]
  },
  {
   "cell_type": "code",
   "execution_count": null,
   "metadata": {},
   "outputs": [],
   "source": []
  },
  {
   "cell_type": "markdown",
   "metadata": {},
   "source": [
    "What can you say about the bias and variance of the estimators?"
   ]
  },
  {
   "cell_type": "markdown",
   "metadata": {},
   "source": [
    "plot the bias and variance of each estimator. "
   ]
  },
  {
   "cell_type": "code",
   "execution_count": null,
   "metadata": {},
   "outputs": [],
   "source": []
  },
  {
   "cell_type": "markdown",
   "metadata": {},
   "source": [
    "Does the Cramér-Rao inequality hold?\n"
   ]
  },
  {
   "cell_type": "markdown",
   "metadata": {},
   "source": [
    "# Bias-Variance Tradeoff"
   ]
  },
  {
   "cell_type": "markdown",
   "metadata": {},
   "source": [
    "1) Consider the exponential distribution $$ p(x|\\lambda) = \\frac{1}{\\lambda}\\exp(-x/\\lambda) $$ Derive an expression for the MLE estimator $\\hat{\\lambda}$ given n observations"
   ]
  },
  {
   "cell_type": "markdown",
   "metadata": {},
   "source": [
    "2) For n = 1, compute the bias, variance and mean squared error (\"MSE\") of two estimators: 1) the constant estimator $\\hat{\\lambda}$ = 0 and 2) the MLE estimator. Does the variance of the constant estimator disprove the Cramér-Rao inequality?"
   ]
  },
  {
   "cell_type": "markdown",
   "metadata": {},
   "source": [
    "Let's consider an experiment with $n=1$ observations of random numbers originating from this model. We can simulate 100,000 such experiments:"
   ]
  },
  {
   "cell_type": "code",
   "execution_count": 16,
   "metadata": {},
   "outputs": [],
   "source": [
    "import matplotlib.pyplot as plt\n",
    "import numpy as np\n",
    "import scipy.stats as sps\n",
    "\n",
    "def model(scale):\n",
    "    return sps.expon(scale = scale)\n",
    "\n",
    "true_value = 10.0\n",
    "n_variables = 1\n",
    "toys = model(true_value).rvs(size = (100000,n_variables))"
   ]
  },
  {
   "cell_type": "markdown",
   "metadata": {},
   "source": [
    "Using the definitions of bias, variance and mean squared error (\"MSE\") we can study those metrics\n",
    "for the estimator \n",
    "\n",
    "$$ \\hat{\\lambda} = (1-m) \\hat{\\lambda}_\\mathrm{MLE} $$"
   ]
  },
  {
   "cell_type": "code",
   "execution_count": 17,
   "metadata": {},
   "outputs": [],
   "source": [
    "def analyze(m):\n",
    "    #estim = ...\n",
    "    #mean_estim = ...\n",
    "    #delta = ...\n",
    "    #bias = ...\n",
    "    #variance = ...\n",
    "    #mse = ...\n",
    "    return ({\n",
    "        'bias': bias,\n",
    "        'var': variance,\n",
    "        'mse': mse,\n",
    "        'mean_est': mean_estim\n",
    "    }, estim)"
   ]
  },
  {
   "cell_type": "markdown",
   "metadata": {},
   "source": [
    "Scan the parameter from $m=0$ (the MLE) to $m=1$ (the constant estimator) and plot $\\mathrm{bias}^2$, $\\mathrm{var}$, $\\mathrm{bias}^2 + \\mathrm{var}$ and MS. Which value of m achieves the lowest possible MSE? Discuss the result qualitatively in terms of bias and variance"
   ]
  },
  {
   "cell_type": "markdown",
   "metadata": {},
   "source": [
    "bonus: try with `n_variables` > 1"
   ]
  },
  {
   "cell_type": "markdown",
   "metadata": {},
   "source": [
    "# Optimization algs"
   ]
  },
  {
   "cell_type": "code",
   "execution_count": 18,
   "metadata": {},
   "outputs": [],
   "source": [
    "import numpy as np\n",
    "import matplotlib.pyplot as plt\n",
    "from scipy.stats import norm"
   ]
  },
  {
   "cell_type": "markdown",
   "metadata": {},
   "source": [
    "Generate data from a mixture (weight1 + weight2 = 1) of two normal distributions with know means and vars and plot the distribution"
   ]
  },
  {
   "cell_type": "code",
   "execution_count": 19,
   "metadata": {},
   "outputs": [],
   "source": [
    "#data = np.concatenate([\n",
    "#    np.random.normal(means[0], np.sqrt(variances[0]), int(weights[0] * sample_size)),\n",
    "#    np.random.normal(means[1], np.sqrt(variances[1]), int(weights[1] * sample_size))\n",
    "#])"
   ]
  },
  {
   "cell_type": "markdown",
   "metadata": {},
   "source": [
    "wirte the log-likelihood function for a mixture of two normal distributions"
   ]
  },
  {
   "cell_type": "code",
   "execution_count": 20,
   "metadata": {},
   "outputs": [],
   "source": [
    "def log_likelihood(params, data):\n",
    "    #...\n",
    "    #likelihood = ...\n",
    "    return -np.sum(np.log(likelihood))"
   ]
  },
  {
   "cell_type": "markdown",
   "metadata": {},
   "source": [
    "Find the MLE using Optimization Algorithms from e.g. `scipy.optimize`"
   ]
  },
  {
   "cell_type": "code",
   "execution_count": 21,
   "metadata": {},
   "outputs": [],
   "source": [
    "from scipy.optimize import minimize"
   ]
  },
  {
   "cell_type": "markdown",
   "metadata": {},
   "source": [
    "You can try different algs (with and without grads) and plot the results. For example method=`'Nelder-Mead'`,`'Powell'`,`'L-BFGS-B'`"
   ]
  },
  {
   "cell_type": "markdown",
   "metadata": {},
   "source": [
    "`tip`: be carefull about parameters initial values and bounds "
   ]
  },
  {
   "cell_type": "code",
   "execution_count": null,
   "metadata": {},
   "outputs": [],
   "source": [
    "\n"
   ]
  }
 ],
 "metadata": {
  "kernelspec": {
   "display_name": "Python 3",
   "language": "python",
   "name": "python3"
  },
  "language_info": {
   "codemirror_mode": {
    "name": "ipython",
    "version": 3
   },
   "file_extension": ".py",
   "mimetype": "text/x-python",
   "name": "python",
   "nbconvert_exporter": "python",
   "pygments_lexer": "ipython3",
   "version": "3.9.6"
  }
 },
 "nbformat": 4,
 "nbformat_minor": 2
}
