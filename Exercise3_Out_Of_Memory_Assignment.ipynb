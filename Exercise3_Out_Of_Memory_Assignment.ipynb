{
  "nbformat": 4,
  "nbformat_minor": 0,
  "metadata": {
    "colab": {
      "provenance": []
    },
    "kernelspec": {
      "name": "python3",
      "display_name": "Python 3"
    },
    "language_info": {
      "name": "python"
    }
  },
  "cells": [
    {
      "cell_type": "markdown",
      "source": [
        "# Out-Of-Memory Exercise\n",
        "\n",
        "For this exercise, you're given a purely fictional, simulated dataset. The dataset represents data from a webshop and is broken into three parts:\n",
        "\n",
        "\n",
        "\n",
        "*   **customer data**: A catalogue over registered customers in the webshop. Contains personal information about each customer which (if this was a real dataset) would be encrypted.\n",
        "*   **product data**: A catalogue of products sold by the webshop. Descriptions, price and other information.\n",
        "*   **sales data**: Historic sales made by customers. Contains order total, which customer placed the order, status and other information.\n",
        "\n",
        "\n",
        "In this exercise, you'll be tasked with answering concrete questions about the dataset which requires you to query it efficiently. To do this, you'll need to write SQL commands using polars to query the parquet files, and you'll be tasked with comparing the speed of these queries with a SQLite-version of the dataset.\n"
      ],
      "metadata": {
        "id": "4J4ZcQyUeYlR"
      }
    },
    {
      "cell_type": "markdown",
      "source": [
        "We start with downloading the dataset in Parquet format:"
      ],
      "metadata": {
        "id": "lEljr0qgix5R"
      }
    },
    {
      "cell_type": "code",
      "source": [
        "# Download sales data\n",
        "!gdown 1xWAK9ruxl9C9SHNFV09oEasnEWhLcvWZ\n",
        "\n",
        "# Download product data\n",
        "!gdown 1Xj8dL1wgNI-NpceKzSxWvs7HHSGKWAUy\n",
        "\n",
        "# Download customer data\n",
        "!gdown 1j2In8500o0yXTCXp2hBA8GRVl68UQ5ij"
      ],
      "metadata": {
        "id": "LVa7PgrbeaEG"
      },
      "execution_count": null,
      "outputs": []
    },
    {
      "cell_type": "markdown",
      "source": [
        "We then install polars:"
      ],
      "metadata": {
        "id": "kV_fErCPi5yd"
      }
    },
    {
      "cell_type": "code",
      "source": [
        "!pip install polars==0.19.12"
      ],
      "metadata": {
        "id": "685O-LcAi3z2"
      },
      "execution_count": null,
      "outputs": []
    },
    {
      "cell_type": "markdown",
      "source": [
        "To get you started, we'll create the following SQLContext in polars:\n",
        "\n",
        "\n",
        "*(If you get an error running the cell below, please restart the notebook and run the cell again)*"
      ],
      "metadata": {
        "id": "4t0pRIODjlO2"
      }
    },
    {
      "cell_type": "code",
      "source": [
        "import polars as pl\n",
        "\n",
        "# Reference dataset parts\n",
        "customer_data_path = '/content/customer_data.parquet'\n",
        "product_data_path = '/content/product_data.parquet'\n",
        "sales_data_path = '/content/sales_data.parquet'\n",
        "\n",
        "# Create a pl.LazyFrame to each\n",
        "customer_data = pl.scan_parquet(customer_data_path)\n",
        "product_data = pl.scan_parquet(product_data_path)\n",
        "sales_data = pl.scan_parquet(sales_data_path)\n",
        "\n",
        "# Combine the LazyFrames into a SQLContext\n",
        "conn = pl.SQLContext(customer_data = customer_data,\n",
        "                     product_data = product_data,\n",
        "                     sales_data = sales_data)\n"
      ],
      "metadata": {
        "id": "U8ajFHmEIv-j"
      },
      "execution_count": null,
      "outputs": []
    },
    {
      "cell_type": "markdown",
      "source": [
        "Let's now print the available tables:"
      ],
      "metadata": {
        "id": "091Zs35_mzM7"
      }
    },
    {
      "cell_type": "code",
      "source": [
        "conn.tables()"
      ],
      "metadata": {
        "id": "bcBhUW7Ql8M7"
      },
      "execution_count": null,
      "outputs": []
    },
    {
      "cell_type": "markdown",
      "source": [
        "# **Exercise 1.1**\n",
        "\n",
        "## _Use SQL to write SELECT queries that extracts the first 7 rows of each of the tables above and print the result as a cell output._\n",
        "Hint: LIMIT"
      ],
      "metadata": {
        "id": "8oIrSTSvnCt-"
      }
    },
    {
      "cell_type": "code",
      "source": [],
      "metadata": {
        "id": "D-O5S7x4BhaZ"
      },
      "execution_count": null,
      "outputs": []
    },
    {
      "cell_type": "markdown",
      "source": [
        "# **Exercise 1.2**\n",
        "\n",
        "##  _Familiarize yourself with the data in each of the tables. Do you understand what each column represent?_\n",
        "\n",
        "## _Try to answer_:\n",
        "\n",
        "\n",
        "### 1.   What does a row represent in `'sales_data'`?\n",
        "### 2.   What does a row represent in `'customer_data'`?\n",
        "### 3.   What does a row represent in `'product_data'`?\n",
        "### 4.   Which column in `'sales_data'` relates an order to a row in `'customer_data'`?\n",
        "### 5.   Which column in `'sales_data'` relates an order to a row in `'product_data'`?\n",
        "\n",
        "\n"
      ],
      "metadata": {
        "id": "kH5ZoddoozQK"
      }
    },
    {
      "cell_type": "code",
      "source": [],
      "metadata": {
        "id": "hbGmIzqmBiFF"
      },
      "execution_count": null,
      "outputs": []
    },
    {
      "cell_type": "markdown",
      "source": [
        "# **Exercise 1.3**\n",
        "\n",
        "##  _Write a SELECT query that returns the order with the highest total. Return the full order (with all columns) and save as a variable. Print the result to cell output._\n",
        "\n",
        "Hint: =MAX\n",
        "\n",
        "\n",
        "\n",
        "\n"
      ],
      "metadata": {
        "id": "qMq9ZUw1vCnU"
      }
    },
    {
      "cell_type": "code",
      "source": [],
      "metadata": {
        "id": "2aZe0JhmBmgb"
      },
      "execution_count": null,
      "outputs": []
    },
    {
      "cell_type": "markdown",
      "source": [
        "# **Exercise 1.4**\n",
        "\n",
        "##  _Use the data stored in the variable you created in 1.3 to write a SELECT query that returns all available information about the products that was sold in the order with the highest total. Print the results to cell output._\n",
        "\n",
        "hint: IN\n",
        "\n"
      ],
      "metadata": {
        "id": "hAHKZluOv7_n"
      }
    },
    {
      "cell_type": "code",
      "source": [],
      "metadata": {
        "id": "Fd2RqTFfBoXJ"
      },
      "execution_count": null,
      "outputs": []
    },
    {
      "cell_type": "markdown",
      "source": [
        "# **Exercise 1.5**\n",
        "\n",
        "##  _Use the data stored in the variable you created in 1.3 to write a SELECT query that returns all available information about the customer that placed the order with the highest total. Print the results to cell output._\n",
        "\n",
        "hint: ="
      ],
      "metadata": {
        "id": "lp2wrW6ky3Y9"
      }
    },
    {
      "cell_type": "code",
      "source": [],
      "metadata": {
        "id": "VYrlwWyYBp7d"
      },
      "execution_count": null,
      "outputs": []
    },
    {
      "cell_type": "markdown",
      "source": [
        "# **Exercise 2.1**\n",
        "\n",
        "##  _Supposed we wanted to convert the parquet files to a single SQLite database, where each file becomes it's own table - just like in our pl.SQLContext:_\n",
        "\n",
        "1. Which column in `'customer_data'` is an obvious candidate for a Primary Key?\n",
        "2. Which column in `'product_data'` is an obvious candidate for a Primary Key?\n",
        "3. Why should we construct an Index - not a Primary Key - on `'sales_data'` - and which column could be a potential candidate?\n",
        "\n"
      ],
      "metadata": {
        "id": "wI4hPwo0HKXU"
      }
    },
    {
      "cell_type": "code",
      "source": [],
      "metadata": {
        "id": "gFo75HjuJYBB"
      },
      "execution_count": null,
      "outputs": []
    },
    {
      "cell_type": "markdown",
      "source": [
        "\n",
        "# **Exercise 2.2**\n",
        "##_Download the two webshop SQLite database files `'webshop_data.db'` and `'webshop_data_no_indexing.db'`_ by running the cell below.\n",
        "\n",
        "## We will use the function below to query the databases:\n",
        "\n",
        "```\n",
        "import sqlite3\n",
        "# conn = sqlite3.connect(database_path)\n",
        "\n",
        "def query_database(query, conn):\n",
        "    return conn.execute(query).fetchall()\n",
        "```\n",
        "\n",
        "## and we define our query as the following\n",
        "\n",
        "```\n",
        "import numpy as np\n",
        "\n",
        "customer_ids = np.random.randint(0, 9999, 10)\n",
        "query = f'SELECT * FROM costumer_data WHERE customer_id IN {str(tuple(customer_ids))}'\n",
        "\n",
        "```\n",
        "\n",
        "## `customer_ids` will contain 10 random ids in the `customer_data` table, and the query asks for the corresponding rows.\n",
        "\n",
        "## Establish a connection to each database, and use `%timeit -n 100 query_database(query = query, conn = your_connection)` to measure the execution time.\n",
        "\n",
        "## Which of the two databases are faster for this query? Why?\n",
        "\n",
        "\n",
        "\n"
      ],
      "metadata": {
        "id": "i6LEaTQ5qeTA"
      }
    },
    {
      "cell_type": "code",
      "source": [
        "!gdown 1c66GNAYJxsYEfLNYgh53LtoA0ncnvnmd\n",
        "!gdown 1CRZA2a_K3tkGQUo3C7Cdwi8x-sf-2UeE\n"
      ],
      "metadata": {
        "id": "vZsgbSKaqdqd"
      },
      "execution_count": null,
      "outputs": []
    },
    {
      "cell_type": "code",
      "source": [],
      "metadata": {
        "id": "L2TXKTHbBzSv"
      },
      "execution_count": null,
      "outputs": []
    },
    {
      "cell_type": "markdown",
      "source": [
        "# **Exercise 2.3**\n",
        "##_Execute the same query as in 2.2 but using the pl.SQLContext from polars on the parquet-version of the dataset. How does the execution time compare to the databases above?_"
      ],
      "metadata": {
        "id": "mI9Qvo88J31w"
      }
    },
    {
      "cell_type": "code",
      "source": [],
      "metadata": {
        "id": "CnCtAot8B1dI"
      },
      "execution_count": null,
      "outputs": []
    },
    {
      "cell_type": "markdown",
      "source": [
        "# **Bonus Exercises**\n",
        "\n",
        "##  **a)** _Write memory efficient queries that answers the following questions:_\n",
        "\n",
        "\n",
        "\n",
        "1.   _In what year did the webshop earn the most money?_\n",
        "2.   _What is the average earnings in August? (average over years)_\n",
        "3.   _Which product has been sold the most?_\n",
        "4.   _Which customer has spent the most money at the webshop?_\n",
        "5.   _Has all products been sold at least once?_\n",
        "\n",
        "hint: DISTINCT, GROUP BY, SUM, NOT IN\n",
        "\n",
        "## **b)** _Write a single SELECT query that returns the name of the customer that placed the order with the highest total. You may not use data stored in previous variables._\n",
        "hint: LEFT JOIN"
      ],
      "metadata": {
        "id": "qilvpIT63ujb"
      }
    },
    {
      "cell_type": "code",
      "source": [],
      "metadata": {
        "id": "3lBbTZZrB6kU"
      },
      "execution_count": null,
      "outputs": []
    }
  ]
}